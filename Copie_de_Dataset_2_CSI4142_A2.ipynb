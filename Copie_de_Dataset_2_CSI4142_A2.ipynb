{
  "nbformat": 4,
  "nbformat_minor": 0,
  "metadata": {
    "colab": {
      "provenance": []
    },
    "kernelspec": {
      "name": "python3",
      "display_name": "Python 3"
    },
    "language_info": {
      "name": "python"
    }
  },
  "cells": [
    {
      "cell_type": "markdown",
      "source": [
        "# DATA CLEANING"
      ],
      "metadata": {
        "id": "9l0vRA5ce21x"
      }
    },
    {
      "cell_type": "markdown",
      "source": [
        "# INTRODUCTION (FOR DATASET 2)\n",
        "\n",
        "\n",
        "\n",
        "* **GOAL OF THE ANALYSIS**\n",
        "\n",
        "This analysis aims to analyze the Credit Score Classification Dataset by examining key financial attributes like annual income, payment behavior, credit history, loan details, and credit utilization ratio. The goal is to identify trends impacting an individual's credit score classification and contribute to a more data-driven credit evaluation process.\n",
        "*   **AUDIENCE**\n",
        "\n",
        "This analysis is intended for:\n",
        "\n",
        "* Financial Institutions & Banks : To enhance credit risk assessment, automate credit score classification, and optimize lending decisions.\n",
        "* Loan Officers & Credit Analysts : To gain deeper insights into the factors influencing credit scores and improve the accuracy of credit evaluations.\n",
        "* Data Scientists & Machine Learning Engineers : To apply data-driven techniques for handling missing values, improving dataset quality, and building predictive models for credit scoring.\n"
      ],
      "metadata": {
        "id": "jYye1tPZgGxc"
      }
    },
    {
      "cell_type": "markdown",
      "source": [
        "# DATASETS IMPORTS AND LOADING"
      ],
      "metadata": {
        "id": "SIh9aHdWgg8Y"
      }
    },
    {
      "cell_type": "code",
      "source": [
        "# Importation des bibliothèques essentielles\n",
        "import pandas as pd\n",
        "import numpy as np\n",
        "import matplotlib.pyplot as plt\n",
        "import seaborn as sns\n",
        "import os\n",
        "import zipfile"
      ],
      "metadata": {
        "id": "oyX5Cgji0oND"
      },
      "execution_count": null,
      "outputs": []
    },
    {
      "cell_type": "code",
      "source": [
        "url_zip = \"https://github.com/Aichalfakir/CSI4142_A2/raw/main/train.csv.zip\"\n",
        "\n",
        "# Télécharger le fichier ZIP\n",
        "os.system(f\"wget {url_zip} -O train.csv.zip\")\n",
        "\n",
        "# Extraire le fichier ZIP\n",
        "with zipfile.ZipFile(\"train.csv.zip\", \"r\") as zip_ref:\n",
        "    zip_ref.extractall(\"train_data\")  # Décompression dans un dossier\n",
        "# Charger le fichier CSV extrait\n",
        "file_name = \"train.csv\"\n",
        "df_credit_train = pd.read_csv(f\"train_data/{file_name}\", low_memory=False)\n",
        "\n",
        "# Afficher un aperçu des données\n",
        "print(df_credit_train.head())\n",
        "\n",
        "# Vérifier la structure du dataset\n",
        "print(f\"Number of rows: {df_credit_train.shape[0]}, Number of columns: {df_credit_train.shape[1]}\")\n",
        "df_credit_train.info()\n"
      ],
      "metadata": {
        "colab": {
          "base_uri": "https://localhost:8080/"
        },
        "id": "AFRSL1xr0qVO",
        "outputId": "9869deea-8ae1-42a4-d2f3-3e6e8bb8d2d8",
        "collapsed": true
      },
      "execution_count": null,
      "outputs": [
        {
          "output_type": "stream",
          "name": "stdout",
          "text": [
            "       ID Customer_ID     Month           Name   Age          SSN Occupation  \\\n",
            "0  0x1602   CUS_0xd40   January  Aaron Maashoh    23  821-00-0265  Scientist   \n",
            "1  0x1603   CUS_0xd40  February  Aaron Maashoh    23  821-00-0265  Scientist   \n",
            "2  0x1604   CUS_0xd40     March  Aaron Maashoh  -500  821-00-0265  Scientist   \n",
            "3  0x1605   CUS_0xd40     April  Aaron Maashoh    23  821-00-0265  Scientist   \n",
            "4  0x1606   CUS_0xd40       May  Aaron Maashoh    23  821-00-0265  Scientist   \n",
            "\n",
            "  Annual_Income  Monthly_Inhand_Salary  Num_Bank_Accounts  ...  Credit_Mix  \\\n",
            "0      19114.12            1824.843333                  3  ...           _   \n",
            "1      19114.12                    NaN                  3  ...        Good   \n",
            "2      19114.12                    NaN                  3  ...        Good   \n",
            "3      19114.12                    NaN                  3  ...        Good   \n",
            "4      19114.12            1824.843333                  3  ...        Good   \n",
            "\n",
            "   Outstanding_Debt Credit_Utilization_Ratio     Credit_History_Age  \\\n",
            "0            809.98                26.822620  22 Years and 1 Months   \n",
            "1            809.98                31.944960                    NaN   \n",
            "2            809.98                28.609352  22 Years and 3 Months   \n",
            "3            809.98                31.377862  22 Years and 4 Months   \n",
            "4            809.98                24.797347  22 Years and 5 Months   \n",
            "\n",
            "   Payment_of_Min_Amount Total_EMI_per_month Amount_invested_monthly  \\\n",
            "0                     No           49.574949       80.41529543900253   \n",
            "1                     No           49.574949      118.28022162236736   \n",
            "2                     No           49.574949         81.699521264648   \n",
            "3                     No           49.574949       199.4580743910713   \n",
            "4                     No           49.574949      41.420153086217326   \n",
            "\n",
            "                  Payment_Behaviour     Monthly_Balance Credit_Score  \n",
            "0   High_spent_Small_value_payments  312.49408867943663         Good  \n",
            "1    Low_spent_Large_value_payments  284.62916249607184         Good  \n",
            "2   Low_spent_Medium_value_payments   331.2098628537912         Good  \n",
            "3    Low_spent_Small_value_payments  223.45130972736786         Good  \n",
            "4  High_spent_Medium_value_payments  341.48923103222177         Good  \n",
            "\n",
            "[5 rows x 28 columns]\n",
            "Number of rows: 100000, Number of columns: 28\n",
            "<class 'pandas.core.frame.DataFrame'>\n",
            "RangeIndex: 100000 entries, 0 to 99999\n",
            "Data columns (total 28 columns):\n",
            " #   Column                    Non-Null Count   Dtype  \n",
            "---  ------                    --------------   -----  \n",
            " 0   ID                        100000 non-null  object \n",
            " 1   Customer_ID               100000 non-null  object \n",
            " 2   Month                     100000 non-null  object \n",
            " 3   Name                      90015 non-null   object \n",
            " 4   Age                       100000 non-null  object \n",
            " 5   SSN                       100000 non-null  object \n",
            " 6   Occupation                100000 non-null  object \n",
            " 7   Annual_Income             100000 non-null  object \n",
            " 8   Monthly_Inhand_Salary     84998 non-null   float64\n",
            " 9   Num_Bank_Accounts         100000 non-null  int64  \n",
            " 10  Num_Credit_Card           100000 non-null  int64  \n",
            " 11  Interest_Rate             100000 non-null  int64  \n",
            " 12  Num_of_Loan               100000 non-null  object \n",
            " 13  Type_of_Loan              88592 non-null   object \n",
            " 14  Delay_from_due_date       100000 non-null  int64  \n",
            " 15  Num_of_Delayed_Payment    92998 non-null   object \n",
            " 16  Changed_Credit_Limit      100000 non-null  object \n",
            " 17  Num_Credit_Inquiries      98035 non-null   float64\n",
            " 18  Credit_Mix                100000 non-null  object \n",
            " 19  Outstanding_Debt          100000 non-null  object \n",
            " 20  Credit_Utilization_Ratio  100000 non-null  float64\n",
            " 21  Credit_History_Age        90970 non-null   object \n",
            " 22  Payment_of_Min_Amount     100000 non-null  object \n",
            " 23  Total_EMI_per_month       100000 non-null  float64\n",
            " 24  Amount_invested_monthly   95521 non-null   object \n",
            " 25  Payment_Behaviour         100000 non-null  object \n",
            " 26  Monthly_Balance           98800 non-null   object \n",
            " 27  Credit_Score              100000 non-null  object \n",
            "dtypes: float64(4), int64(4), object(20)\n",
            "memory usage: 21.4+ MB\n"
          ]
        }
      ]
    },
    {
      "cell_type": "markdown",
      "source": [
        "# MISSING VALUES"
      ],
      "metadata": {
        "id": "AnaSZYVXoRfz"
      }
    },
    {
      "cell_type": "code",
      "source": [
        "def display_missing_values(df, dataset_name):\n",
        "    \"\"\"\n",
        "    Analyse les valeurs manquantes dans un dataset.\n",
        "    \"\"\"\n",
        "    print(f\"\\nMissing Values Analysis for {dataset_name}:\")\n",
        "\n",
        "    def display_statistics(missing, label):\n",
        "        if (missing > 0).any():\n",
        "            print(f\"\\n{label} found in the dataset:\\n{missing[missing > 0]}\")\n",
        "        else:\n",
        "            print(f\"No {label.lower()} found.\")\n",
        "\n",
        "    # Vérification des chaînes vides \"\"\n",
        "    missing_empty = (df == '').sum()\n",
        "    display_statistics(missing_empty, \"Empty Strings\")\n",
        "\n",
        "    # Vérification des valeurs '?' (souvent utilisées comme placeholders)\n",
        "    missing_question_mark = (df == '?').sum()\n",
        "    display_statistics(missing_question_mark, \"Question Mark Values ('?')\")\n",
        "\n",
        "    # Vérification des NaN classiques\n",
        "    missing_NaN = df.isnull().sum()\n",
        "    display_statistics(missing_NaN, \"NaN Values\")\n",
        "\n",
        "# Appliquer la fonction au dataset Credit Score Train\n",
        "display_missing_values(df_credit_train, 'Credit Score Train Dataset')\n",
        "\n"
      ],
      "metadata": {
        "colab": {
          "base_uri": "https://localhost:8080/"
        },
        "id": "xXRos4usoXD9",
        "outputId": "d3d3e933-e3ce-413e-ac40-7c564539f743",
        "collapsed": true
      },
      "execution_count": null,
      "outputs": [
        {
          "output_type": "stream",
          "name": "stdout",
          "text": [
            "\n",
            "Missing Values Analysis for Credit Score Train Dataset:\n",
            "No empty strings found.\n",
            "No question mark values ('?') found.\n",
            "\n",
            "NaN Values found in the dataset:\n",
            "Name                        9985\n",
            "Monthly_Inhand_Salary      15002\n",
            "Type_of_Loan               11408\n",
            "Num_of_Delayed_Payment      7002\n",
            "Num_Credit_Inquiries        1965\n",
            "Credit_History_Age          9030\n",
            "Amount_invested_monthly     4479\n",
            "Monthly_Balance             1200\n",
            "dtype: int64\n"
          ]
        }
      ]
    },
    {
      "cell_type": "markdown",
      "source": [
        "# REDUNDANCY"
      ],
      "metadata": {
        "id": "oG3gZccYopTu"
      }
    },
    {
      "cell_type": "code",
      "source": [
        "def check_duplicate_rows(df, dataset_name):\n",
        "    \"\"\"\n",
        "    Vérifie et affiche le nombre de lignes dupliquées dans un dataset.\n",
        "    \"\"\"\n",
        "    duplicate_rows = df[df.duplicated()]\n",
        "\n",
        "    if not duplicate_rows.empty:\n",
        "        print(f\"{dataset_name}: {len(duplicate_rows)} duplicate rows found.\")\n",
        "        print(\"Duplicate rows:\")\n",
        "        print(duplicate_rows.head())  # Afficher un aperçu des doublons\n",
        "    else:\n",
        "        print(f\"{dataset_name}: No duplicate rows found.\")\n",
        "\n",
        "# Appliquer la fonction au dataset Credit Score Train\n",
        "check_duplicate_rows(df_credit_train, 'Credit Score Train Dataset')\n"
      ],
      "metadata": {
        "colab": {
          "base_uri": "https://localhost:8080/"
        },
        "id": "RzTu9MS3ouk_",
        "outputId": "355bf286-5b40-448b-bcba-eae36ac7f91c"
      },
      "execution_count": null,
      "outputs": [
        {
          "output_type": "stream",
          "name": "stdout",
          "text": [
            "Credit Score Train Dataset: No duplicate rows found.\n"
          ]
        }
      ]
    },
    {
      "cell_type": "markdown",
      "source": [
        "# DATASETS DESCRIPTIONS"
      ],
      "metadata": {
        "id": "LbkJmLCMhsa8"
      }
    },
    {
      "cell_type": "markdown",
      "source": [
        "DATASET 2:\n",
        "\n",
        "\n",
        "*   **NAME**: Credit score classification\n",
        "*   **AUTHOR**: Paris Rohan\n",
        "*   **PURPOSE**: The purpose of this dataset analysis is to:\n",
        "\n",
        "1. Identify missing data and ensure data quality.\n",
        "2. Examine financial and behavioral factors influencing credit scores.\n",
        "3. Analyze patterns in loan payments, credit utilization, and outstanding debts.\n",
        "4. Explore trends in delayed payments and credit history age.\n",
        "5. Provide insights that can be used for credit risk assessment and predictive modeling for financial institutions.\n",
        "\n",
        "*   **SHAPE:** this dataset contains 100000 rows and 28 columns.\n",
        "*   **LIST OF FEATURES**:\n",
        "\n",
        "| Column Name              | Description | Data Type |\n",
        "|-------------------------|----------------------------------------------|--------------------------|\n",
        "| ID                      | Unique identifier for each customer | Categorical (Nominal) |\n",
        "| Customer_ID             | Unique customer identification number | Categorical (Nominal) |\n",
        "| Month                   | Month of data recording | Categorical (Ordinal) |\n",
        "| Name                    | Customer's name | Categorical (Nominal) |\n",
        "| Age                     | Age of the customer | Numerical (Discrete) |\n",
        "| SSN                     | Social Security Number (hashed) | Categorical (Nominal) |\n",
        "| Occupation              | Customer's job type | Categorical (Nominal) |\n",
        "| Annual_Income           | Annual salary of the customer | Numerical (Continuous) |\n",
        "| Monthly_Inhand_Salary   | Net monthly salary received | Numerical (Continuous) |\n",
        "| Num_Bank_Accounts       | Number of active bank accounts | Numerical (Discrete) |\n",
        "| Num_Credit_Card         | Number of credit cards held | Numerical (Discrete) |\n",
        "| Interest_Rate           | Interest rate on loans | Numerical (Continuous) |\n",
        "| Num_of_Loan             | Number of loans taken by the customer | Numerical (Discrete) |\n",
        "| Type_of_Loan            | Type of loans taken (e.g., personal, mortgage) | Categorical (Nominal) |\n",
        "| Delay_from_due_date     | Number of days payment was delayed | Numerical (Discrete) |\n",
        "| Num_of_Delayed_Payment  | Total instances of delayed payments | Numerical (Discrete) |\n",
        "| Changed_Credit_Limit    | Whether the credit limit has changed | Categorical (Nominal) |\n",
        "| Num_Credit_Inquiries    | Number of credit inquiries made | Numerical (Discrete) |\n",
        "| Credit_Mix              | Mix of different credit types (e.g., personal, mortgage, car loan) | Categorical (Ordinal) |\n",
        "| Outstanding_Debt        | Total debt amount owed | Numerical (Continuous) |\n",
        "| Credit_Utilization_Ratio| Ratio of credit used to available credit | Numerical (Continuous) |\n",
        "| Credit_History_Age      | Total age of the customer’s credit history | Numerical (Discrete) |\n",
        "| Payment_of_Min_Amount   | Whether the customer paid the minimum required amount | Categorical (Nominal) |\n",
        "| Total_EMI_per_month     | Monthly Equated Monthly Installment (EMI) payments | Numerical (Continuous) |\n",
        "| Amount_invested_monthly | Monthly savings and investments | Numerical (Continuous) |\n",
        "| Payment_Behaviour       | Spending and payment habits of the customer | Categorical (Nominal) |\n",
        "| Monthly_Balance         | End-of-month balance after transactions | Numerical (Continuous) |\n",
        "| Credit_Score            | **Target Variable** (Low, Standard, Good) | Categorical (Ordinal) |\n",
        "\n",
        "\n",
        "\n",
        "*   **MISSING VALUES**:\n",
        "\n",
        "Missing Values Analysis for Credit Score Train Dataset:\n",
        "No empty strings found.\n",
        "No question mark values ('?') found.\n",
        "\n",
        "NaN Values found in the dataset:\n",
        "\n",
        "Name                        9985\n",
        "\n",
        "Monthly_Inhand_Salary      15002\n",
        "\n",
        "Type_of_Loan               11408\n",
        "\n",
        "Num_of_Delayed_Payment      7002\n",
        "\n",
        "Num_Credit_Inquiries        1965\n",
        "\n",
        "Credit_History_Age          9030\n",
        "\n",
        "Amount_invested_monthly     4479\n",
        "\n",
        "Monthly_Balance             1200\n",
        "\n",
        "*   **REDUNDANCY** :No duplicate rows or columns were found in the dataset, indicating that all features are unique and do not contain redundancy."
      ],
      "metadata": {
        "id": "KYAYPdLch9K6"
      }
    },
    {
      "cell_type": "markdown",
      "source": [
        "# Imputation"
      ],
      "metadata": {
        "id": "nLYR4OFeiXF9"
      }
    },
    {
      "cell_type": "markdown",
      "source": [
        "### **Test 1 – Default Value Imputation**"
      ],
      "metadata": {
        "id": "zbZs9GXp5Cnz"
      }
    },
    {
      "cell_type": "markdown",
      "source": [
        "**Attribute:** Credit_Utilization_Ratio\n",
        "\n",
        "- Type of simulated missing values: MCAR (Missing Completely At Random)\n",
        "- Imputation method: Default value imputation; we replace missing values with the median of the Credit_Utilization_Ratio distribution. This approach ensures that the central tendency of the data is preserved while minimizing the impact of extreme values. By using the median instead of the mean, we prevent skewness caused by outliers and maintain the dataset’s overall consistency."
      ],
      "metadata": {
        "id": "RupbKs0H6B-U"
      }
    },
    {
      "cell_type": "code",
      "source": [
        "df_test1 = df_credit_train.copy()\n",
        "\n",
        "# Introduce missing values by randomly selecting 10% of non-null values (MCAR)\n",
        "np.random.seed(42)  # Ensure reproducibility\n",
        "missing_indices = np.random.choice(df_test1[df_test1[\"Credit_Utilization_Ratio\"].notnull()].index,\n",
        "                                   size=int(0.1 * df_test1.shape[0]), replace=False)\n",
        "df_test1.loc[missing_indices, \"Credit_Utilization_Ratio\"] = np.nan\n",
        "\n",
        "# Check missing values before and after deletion\n",
        "initial_missing = df_test1[\"Credit_Utilization_Ratio\"].isnull().sum()\n",
        "print(f\"Missing values before deletion: {initial_missing}\")\n",
        "\n",
        "# Compute the median for imputation\n",
        "median_value = df_test1[\"Credit_Utilization_Ratio\"].median()\n",
        "print(f\"Median value used for imputation: {median_value}\")\n",
        "\n",
        "# Apply imputation\n",
        "df_test1[\"Credit_Utilization_Ratio\"].fillna(median_value, inplace=True)\n",
        "\n",
        "# Verify if any missing values remain after imputation\n",
        "final_missing = df_test1[\"Credit_Utilization_Ratio\"].isnull().sum()\n",
        "print(f\"Missing values after imputation: {final_missing}\")\n",
        "\n",
        "# Plot the distributions before and after imputation\n",
        "plt.figure(figsize=(8, 5))\n",
        "\n",
        "plt.hist(df_credit_train[\"Credit_Utilization_Ratio\"].dropna(), bins=50, alpha=0.5, label=\"Before Imputation\", color='red', edgecolor='black')\n",
        "plt.hist(df_test1[\"Credit_Utilization_Ratio\"], bins=50, alpha=0.5, label=\"After Imputation\", color='blue', edgecolor='black')\n",
        "\n",
        "plt.title(\"Distribution of Credit Utilization Ratio (Before & After Imputation)\")\n",
        "plt.xlabel(\"Credit Utilization Ratio\")\n",
        "plt.ylabel(\"Frequency\")\n",
        "plt.legend()\n",
        "\n",
        "plt.show()\n"
      ],
      "metadata": {
        "colab": {
          "base_uri": "https://localhost:8080/",
          "height": 681
        },
        "id": "G4B3wjh7SgA8",
        "outputId": "c7511bfb-7d52-4f63-f799-894d33507e64"
      },
      "execution_count": null,
      "outputs": [
        {
          "output_type": "stream",
          "name": "stdout",
          "text": [
            "Missing values before deletion: 10000\n",
            "Median value used for imputation: 32.30578367171092\n",
            "Missing values after imputation: 0\n"
          ]
        },
        {
          "output_type": "stream",
          "name": "stderr",
          "text": [
            "<ipython-input-65-f774e516465a>:18: FutureWarning: A value is trying to be set on a copy of a DataFrame or Series through chained assignment using an inplace method.\n",
            "The behavior will change in pandas 3.0. This inplace method will never work because the intermediate object on which we are setting values always behaves as a copy.\n",
            "\n",
            "For example, when doing 'df[col].method(value, inplace=True)', try using 'df.method({col: value}, inplace=True)' or df[col] = df[col].method(value) instead, to perform the operation inplace on the original object.\n",
            "\n",
            "\n",
            "  df_test1[\"Credit_Utilization_Ratio\"].fillna(median_value, inplace=True)\n"
          ]
        },
        {
          "output_type": "display_data",
          "data": {
            "text/plain": [
              "<Figure size 800x500 with 1 Axes>"
            ],
            "image/png": "[encoded data removed]"
          },
          "metadata": {}
        }
      ]
    },
    {
      "cell_type": "markdown",
      "source": [
        "### **Test 2 – Regression imputation**"
      ],
      "metadata": {
        "id": "iwHOUep5AROc"
      }
    },
    {
      "cell_type": "markdown",
      "source": [
        "**Attribute:** Outstanding_Debt\n",
        "\n",
        "- Type of simulated missing values: MAR (Missing At Random): Missing values ​​of Outstanding_Debt are correlated with another variable, namely Delay_from_due_date. The hypothesis here is that people with a longer history of late payment have a higher probability of having a larger outstanding debt.\n",
        "- Imputation method: Regression imputation; We used linear regression where the independent variable (Delay_from_due_date) is used to predict missing values ​​of Outstanding_Debt."
      ],
      "metadata": {
        "id": "L4OejDAcepel"
      }
    },
    {
      "cell_type": "code",
      "source": [
        "# Calculer la corrélation entre Outstanding_Debt et toutes les autres colonnes numériques\n",
        "correlations = df_credit_train_clean.select_dtypes(include=np.number).corr()[\"Outstanding_Debt\"].sort_values(ascending=False)\n",
        "print(correlations)"
      ],
      "metadata": {
        "colab": {
          "base_uri": "https://localhost:8080/"
        },
        "collapsed": true,
        "id": "1hG6mGdVU-pW",
        "outputId": "441a4ce2-d7f6-4873-ea2b-164a7d10045a"
      },
      "execution_count": null,
      "outputs": [
        {
          "output_type": "stream",
          "name": "stdout",
          "text": [
            "Outstanding_Debt            1.000000\n",
            "Delay_from_due_date         0.593341\n",
            "Num_Bank_Accounts           0.015151\n",
            "Num_Credit_Inquiries        0.014817\n",
            "Interest_Rate               0.010969\n",
            "Num_Credit_Card             0.006428\n",
            "Total_EMI_per_month        -0.006144\n",
            "Credit_Utilization_Ratio   -0.070146\n",
            "Monthly_Inhand_Salary      -0.265180\n",
            "Name: Outstanding_Debt, dtype: float64\n"
          ]
        }
      ]
    },
    {
      "cell_type": "code",
      "source": [
        "from sklearn.linear_model import LinearRegression\n",
        "import numpy as np\n",
        "import matplotlib.pyplot as plt\n",
        "\n",
        "df_credit_train_clean = df_credit_train.copy()\n",
        "\n",
        "# Convert columns to numeric\n",
        "df_credit_train_clean[\"Outstanding_Debt\"] = pd.to_numeric(df_credit_train_clean[\"Outstanding_Debt\"], errors=\"coerce\")\n",
        "df_credit_train_clean[\"Delay_from_due_date\"] = pd.to_numeric(df_credit_train_clean[\"Delay_from_due_date\"], errors=\"coerce\")\n",
        "\n",
        "# Simulate missing values ​​(10% of values)\n",
        "np.random.seed(42)\n",
        "missing_indices = np.random.choice(df_credit_train_clean.index, size=int(0.1 * len(df_credit_train_clean)), replace=False)\n",
        "df_credit_train_clean.loc[missing_indices, \"Outstanding_Debt\"] = np.nan\n",
        "\n",
        "print(\"Number of simulated missing values : {df_credit_train_clean['Outstanding_Debt'].isnull().sum()}\")\n",
        "\n",
        "# Separate complete data and missing values\n",
        "df_complete = df_credit_train_clean.dropna(subset=[\"Outstanding_Debt\", \"Delay_from_due_date\"])\n",
        "df_missing = df_credit_train_clean[df_credit_train_clean[\"Outstanding_Debt\"].isnull()]\n",
        "\n",
        "# Check that there are values ​​available for imputation\n",
        "if df_missing.empty:\n",
        "    print(f\"Aucune donnée utilisable pour l'imputation, vérifiez vos données !\")\n",
        "else:\n",
        "    # Selection of variables for regression\n",
        "    X_train = df_complete[[\"Delay_from_due_date\"]]\n",
        "    y_train = df_complete[\"Outstanding_Debt\"]\n",
        "\n",
        "    # Train the regression model\n",
        "    reg = LinearRegression()\n",
        "    reg.fit(X_train, y_train)\n",
        "\n",
        "    # Check the quality of the model\n",
        "    r2_score = reg.score(X_train, y_train)\n",
        "    print(f\"R² score of the model : {r2_score:.4f}\")\n",
        "\n",
        "    # Predicting missing values\n",
        "    X_missing = df_missing[[\"Delay_from_due_date\"]]\n",
        "    predictions = reg.predict(X_missing)\n",
        "\n",
        "    # Replace NaNs with predicted values\n",
        "    df_credit_train_clean.loc[df_credit_train_clean[\"Outstanding_Debt\"].isnull(), \"Outstanding_Debt\"] = predictions\n",
        "\n",
        "    # Check for missing values ​​after imputation\n",
        "    print(f\"Missing values ​​after imputation :\", df_credit_train_clean[\"Outstanding_Debt\"].isnull().sum())\n",
        "\n",
        "    plt.figure(figsize=(8,5))\n",
        "    plt.hist(df_complete[\"Outstanding_Debt\"], bins=50, alpha=0.6, label=\"Before Imputation\", color='red', edgecolor='black')\n",
        "    plt.hist(df_credit_train_clean[\"Outstanding_Debt\"], bins=50, alpha=0.5, label=\"After Imputation\", color='blue', edgecolor='black')\n",
        "    plt.title(\"Distribution of Outstanding Debt (Before & After Imputation)\")\n",
        "    plt.xlabel(\"Outstanding Debt\")\n",
        "    plt.ylabel(\"Frequency\")\n",
        "    plt.legend()\n",
        "    plt.show()\n"
      ],
      "metadata": {
        "colab": {
          "base_uri": "https://localhost:8080/",
          "height": 539
        },
        "id": "VC1yCwQbZc0D",
        "outputId": "854b18fc-7b74-4241-9acd-40e11da8b68f"
      },
      "execution_count": null,
      "outputs": [
        {
          "output_type": "stream",
          "name": "stdout",
          "text": [
            "Number of simulated missing values : {df_credit_train_clean['Outstanding_Debt'].isnull().sum()}\n",
            "R² score of the model : 0.3264\n",
            "Missing values ​​after imputation : 0\n"
          ]
        },
        {
          "output_type": "display_data",
          "data": {
            "text/plain": [
              "<Figure size 800x500 with 1 Axes>"
            ],
            "image/png": "[encoded data removed]"
          },
          "metadata": {}
        }
      ]
    },
    {
      "cell_type": "markdown",
      "source": [
        "### **Test 3 – Similarity-Based Imputation**"
      ],
      "metadata": {
        "id": "M_nkJ22vLSr8"
      }
    },
    {
      "cell_type": "markdown",
      "source": [
        "**Attribute:** Num_Credit_Inquiries\n",
        "\n",
        "- Type of simulated missing values: MAR (Missing At Random); Num Credit Inquiries depends on some financial variables like Outstanding Debt\n",
        "- Imputation method: Similarity-based imputation."
      ],
      "metadata": {
        "id": "gct5sXDMmKGh"
      }
    },
    {
      "cell_type": "code",
      "source": [
        "print(f\"Number of missing values ​​before imputation :\", df_credit_train_clean[\"Num_Credit_Inquiries\"].isnull().sum())\n"
      ],
      "metadata": {
        "colab": {
          "base_uri": "https://localhost:8080/"
        },
        "id": "psHygfxznLPy",
        "outputId": "d6a10f99-af12-462a-ae43-55b43ab80209"
      },
      "execution_count": null,
      "outputs": [
        {
          "output_type": "stream",
          "name": "stdout",
          "text": [
            "Number of missing values ​​before imputation : 1965\n"
          ]
        }
      ]
    },
    {
      "cell_type": "code",
      "source": [
        "df_numeric = df_credit_train_clean.select_dtypes(include=['number'])\n",
        "corr_matrix = df_numeric.corr()\n",
        "\n",
        "# Trier les variables les plus corrélées avec Num_Credit_Inquiries\n",
        "corr_target = corr_matrix[\"Num_Credit_Inquiries\"].dropna().sort_values(ascending=False)\n",
        "\n",
        "print(f\"Variables most correlated with Num_Credit_Inquiries:\")\n",
        "print(corr_target.head(5))\n"
      ],
      "metadata": {
        "colab": {
          "base_uri": "https://localhost:8080/"
        },
        "id": "e11zHaPbnXq2",
        "outputId": "ee51222a-5795-49ac-c942-9c5a2b82986f"
      },
      "execution_count": null,
      "outputs": [
        {
          "output_type": "stream",
          "name": "stdout",
          "text": [
            "Variables most correlated with Num_Credit_Inquiries:\n",
            "Num_Credit_Inquiries        1.000000\n",
            "Outstanding_Debt            0.014817\n",
            "Delay_from_due_date         0.011508\n",
            "Credit_Utilization_Ratio    0.000145\n",
            "Interest_Rate              -0.001681\n",
            "Name: Num_Credit_Inquiries, dtype: float64\n"
          ]
        }
      ]
    },
    {
      "cell_type": "code",
      "source": [
        "from sklearn.impute import KNNImputer\n",
        "import numpy as np\n",
        "\n",
        "df_test3 = df_credit_train_clean[[\"Num_Credit_Inquiries\", \"Outstanding_Debt\"]].copy()\n",
        "\n",
        "print(f\"Missing values ​​before imputation:\")\n",
        "print(df_test3.isnull().sum())\n"
      ],
      "metadata": {
        "colab": {
          "base_uri": "https://localhost:8080/"
        },
        "id": "Vhk2e7rFtfz8",
        "outputId": "092124a0-cbdc-48a0-dab9-6fd6ad85e1a7"
      },
      "execution_count": null,
      "outputs": [
        {
          "output_type": "stream",
          "name": "stdout",
          "text": [
            "Missing values ​​before imputation:\n",
            "Num_Credit_Inquiries    1965\n",
            "Outstanding_Debt           0\n",
            "dtype: int64\n"
          ]
        }
      ]
    },
    {
      "cell_type": "code",
      "source": [
        "# Initialiser l'imputateur KNN\n",
        "imputer = KNNImputer(n_neighbors=5)\n",
        "\n",
        "# Apply imputation\n",
        "df_test3_imputed = imputer.fit_transform(df_test3)\n",
        "\n",
        "# Return as DataFrame\n",
        "df_test3_imputed = pd.DataFrame(df_test3_imputed, columns=df_test3.columns)\n",
        "\n",
        "print(f\"Missing values ​​after imputation:\")\n",
        "print(df_test3_imputed.isnull().sum())\n"
      ],
      "metadata": {
        "colab": {
          "base_uri": "https://localhost:8080/"
        },
        "id": "1uYH08rVtj5p",
        "outputId": "21942c68-4a1d-46d2-e7c8-6c194587d527"
      },
      "execution_count": null,
      "outputs": [
        {
          "output_type": "stream",
          "name": "stdout",
          "text": [
            "Missing values ​​after imputation:\n",
            "Num_Credit_Inquiries    0\n",
            "Outstanding_Debt        0\n",
            "dtype: int64\n"
          ]
        }
      ]
    },
    {
      "cell_type": "code",
      "source": [
        "plt.figure(figsize=(8,5))\n",
        "plt.hist(df_test3[\"Num_Credit_Inquiries\"].dropna(), bins=50, alpha=0.5, label=\"Before Imputation\", color='red', edgecolor='black')\n",
        "plt.hist(df_test3_imputed[\"Num_Credit_Inquiries\"], bins=50, alpha=0.5, label=\"After Imputation\", color='blue', edgecolor='black')\n",
        "plt.title(\"Distribution of Num_Credit_Inquiries (Before & After Imputation)\")\n",
        "plt.xlabel(\"Num_Credit_Inquiries\")\n",
        "plt.ylabel(\"Frequency\")\n",
        "plt.legend()\n",
        "plt.show()\n"
      ],
      "metadata": {
        "colab": {
          "base_uri": "https://localhost:8080/",
          "height": 487
        },
        "id": "t8jFhBVTuY18",
        "outputId": "02c86cc9-3610-44cf-b345-459225837732"
      },
      "execution_count": null,
      "outputs": [
        {
          "output_type": "display_data",
          "data": {
            "text/plain": [
              "<Figure size 800x500 with 1 Axes>"
            ],
            "image/png": "[encoded data removed]"
          },
          "metadata": {}
        }
      ]
    },
    {
      "cell_type": "markdown",
      "source": [
        "# CONCLUSION"
      ],
      "metadata": {
        "id": "FpQ7INAalD3T"
      }
    },
    {
      "cell_type": "markdown",
      "source": [
        "The Credit Score Train Dataset was analyzed to explore strategies for handling missing values and their impact on data quality, with three distinct imputation methods applied to variables with missing values:\n",
        "\n",
        "1. Default Value Imputation (univariate) on Monthly Inhand Salary, allowing to preserve the overall distribution without significantly altering the extreme values.\n",
        "\n",
        "2. Regression Imputation (bivariate) on Outstanding_Debt, using Annual_Income as explanatory variable, showing a weak correlation and suggesting that other factors influence this variable more.\n",
        "\n",
        "3. Similarity-Based Imputation (multivariate) on Num_Credit_Inquiries, which efficiently completed the data while maintaining a distribution consistent with the original values"
      ],
      "metadata": {
        "id": "jI6IXk7Cw6SS"
      }
    },
    {
      "cell_type": "markdown",
      "source": [
        "# REFERENCES"
      ],
      "metadata": {
        "id": "_qBTLJd9RpV5"
      }
    },
    {
      "cell_type": "markdown",
      "source": [
        "- Credit score classification. (2022, June 22). Kaggle. https://www.kaggle.com/datasets/parisrohan/credit-score-classification\n",
        "- 6.4. Imputation of missing values. (n.d.). Scikit-learn. https://scikit-learn.org/stable/modules/impute.html"
      ],
      "metadata": {
        "id": "8QzhQ_mY5btN"
      }
    }
  ]
}